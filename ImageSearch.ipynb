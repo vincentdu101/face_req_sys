{
 "cells": [
  {
   "cell_type": "code",
   "execution_count": 1,
   "metadata": {},
   "outputs": [
    {
     "name": "stdout",
     "output_type": "stream",
     "text": [
      "imageUrl https://images-production.global.ssl.fastly.net/uploads/posts/off_site_promo_image/160992/cat-litter-box.jpg?auto=compress&crop=top&fit=crop&h=900&q=55&w=1200\n"
     ]
    },
    {
     "name": "stderr",
     "output_type": "stream",
     "text": [
      "/Users/vincentdu/anaconda/lib/python3.6/site-packages/ipykernel_launcher.py:48: DeprecationWarning: `imread` is deprecated!\n",
      "`imread` is deprecated in SciPy 1.0.0, and will be removed in 1.2.0.\n",
      "Use ``imageio.imread`` instead.\n"
     ]
    },
    {
     "name": "stdout",
     "output_type": "stream",
     "text": [
      "imageUrl https://da28rauy2a860.cloudfront.net/completehome/wp-content/uploads/2018/05/31183000/enduro-1.jpg\n",
      "imageUrl https://jojotastic.com/wp-content/uploads/2018/07/jojotastic-hand-picked-clean-beauty-at-Follain-2.jpg\n",
      "imageUrl http://www.hookedsober.com/wp-content/uploads/2018/07/Katie-Price-comes-clean-about-her-days-of-cocaine-and-alcohol.jpg\n",
      "imageUrl https://www.isumsoft.com/it/wp-content/uploads/2018/07/wipe-computer-clean.png\n",
      "imageUrl https://www.crucialfour.com/wp-content/uploads/2018/06/what-is-clean-eating.jpg\n",
      "imageUrl https://i0.wp.com/media.globalnews.ca/videostatic/681/839/SARAH_RAW_INTERVIEW_848x480_1270955075884.jpg?w=500&quality=70&strip=all\n",
      "imageUrl http://cleanfoodcrush.com/wp-content/uploads/2018/05/Eat-Clean-Homemade-Ranch-Delight-Bento-Boxes.jpg\n",
      "imageUrl http://boxlifemagazine.com/wp-content/uploads//2018/04/BoxLife-Training-063.png\n",
      "imageUrl https://doitandhow.files.wordpress.com/2018/07/cleaning-your-crockpot-3.jpg\n"
     ]
    }
   ],
   "source": [
    "import requests #install from: http://docs.python-requests.org/en/master/\n",
    "import cv2\n",
    "import scipy.misc\n",
    "from urllib.request import urlopen\n",
    "from matplotlib.pyplot import imshow\n",
    "\n",
    "#Replace the following string value with your valid X-Mashape-Key key.\n",
    "Your_X_Mashape_Key = \"TFEUaBxpS1mshhkM9FVX4qtSU0NZp1p10zHjsnb89ZdrcYowdQ\";\n",
    "\n",
    "#The query parameters: (update according to your search query)\n",
    "count = 10 #the number of items to return\n",
    "q = \"Global Tapware Pty Ltd 1 Box Easy Clean Faucets\" #the search query\n",
    "autoCorrect = True #autoCorrectspelling\n",
    "\n",
    "response=requests.get(\"https://contextualwebsearch-websearch-v1.p.mashape.com/api/Search/ImageSearchAPI?q={}&count={}&autocorrect={}\".format(q, count, autoCorrect),\n",
    "headers={\n",
    "\"X-Mashape-Key\": Your_X_Mashape_Key,\n",
    "\"Accept\": \"application/json\"\n",
    "}\n",
    ").json()\n",
    "\n",
    "#Get the numer of items returned\n",
    "#totalCount = response[\"totalCount\"];\n",
    "\n",
    "#Get the list of most frequent searches related to the input search query\n",
    "#relatedSearch = response[\"relatedSearch\"]\n",
    "\n",
    "#Go over each resulting item\n",
    "for webPage in response[\"value\"]:\n",
    "\n",
    "#Get the web page metadata\n",
    "#     url = webPage[\"url\"]\n",
    "#     title = webPage[\"title\"]\n",
    "#     description = webPage[\"description\"]\n",
    "#     keywords = webPage[\"keywords\"]\n",
    "#     provider = webPage[\"provider\"][\"name\"]\n",
    "#     datePublished = webPage[\"datePublished\"]\n",
    "\n",
    "    #Get the web page image (if exists)\n",
    "    imageUrl = webPage[\"url\"]\n",
    "    imageHeight = webPage[\"height\"]\n",
    "    widthHeight = webPage[\"width\"]\n",
    "\n",
    "    #An example: Output the webpage url, title and published date:\n",
    "    #print(\"Url: %s. Title: %s. Published Date:%s.\" % (url, title, datePublished))\n",
    "    print(\"imageUrl \" + imageUrl)\n",
    "    with urlopen(imageUrl) as file:\n",
    "        img = scipy.misc.imread(file)\n",
    "        imshow(img)"
   ]
  },
  {
   "cell_type": "code",
   "execution_count": null,
   "metadata": {},
   "outputs": [],
   "source": []
  },
  {
   "cell_type": "code",
   "execution_count": null,
   "metadata": {},
   "outputs": [],
   "source": []
  }
 ],
 "metadata": {
  "kernelspec": {
   "display_name": "Python 3",
   "language": "python",
   "name": "python3"
  },
  "language_info": {
   "codemirror_mode": {
    "name": "ipython",
    "version": 3
   },
   "file_extension": ".py",
   "mimetype": "text/x-python",
   "name": "python",
   "nbconvert_exporter": "python",
   "pygments_lexer": "ipython3",
   "version": "3.6.5"
  }
 },
 "nbformat": 4,
 "nbformat_minor": 2
}
