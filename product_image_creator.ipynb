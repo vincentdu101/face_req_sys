{
 "cells": [
  {
   "cell_type": "code",
   "execution_count": 61,
   "metadata": {
    "collapsed": true
   },
   "outputs": [],
   "source": [
    "import requests\n",
    "import h5py\n",
    "import os\n",
    "import cv2\n",
    "import datetime as dt\n",
    "import matplotlib.pyplot as plt\n",
    "import matplotlib.pylab as plb\n",
    "import numpy as np\n",
    "import pandas as pd\n",
    "from glob import glob"
   ]
  },
  {
   "cell_type": "code",
   "execution_count": 62,
   "metadata": {
    "collapsed": true
   },
   "outputs": [],
   "source": [
    "HEIGHT = 256\n",
    "WIDTH = 256\n",
    "CHANNELS = 3\n",
    "images_path = \"./images/256_ObjectCategories\"\n",
    "h5_file_output = \"./datasets/256_images.h5\""
   ]
  },
  {
   "cell_type": "code",
   "execution_count": 63,
   "metadata": {
    "collapsed": true
   },
   "outputs": [],
   "source": [
    "def export_images():\n",
    "    start = dt.datetime.now()\n",
    "    dtype = h5py.special_dtype(vlen=np.dtype('uint8'))\n",
    "    \n",
    "    if os.path.exists(h5_file_output):\n",
    "        os.remove(h5_file_output)\n",
    "        \n",
    "    with h5py.File(h5_file_output, \"w\") as wf:\n",
    "        directories = next(os.walk(images_path))[1]\n",
    "        asciiList = [n.split(\".\")[1].encode(\"ascii\", \"ignore\") for n in directories]\n",
    "        \n",
    "        with h5py.File(h5_file_output, \"a\") as hf:\n",
    "        \n",
    "            hf.create_dataset('labels', (len(asciiList), 1), 'S10', asciiList)\n",
    "\n",
    "            for directory in directories:\n",
    "                SOURCE_IMAGES = os.path.join(images_path, directory)\n",
    "                images = glob(os.path.join(SOURCE_IMAGES, \"*.jpg\"))\n",
    "\n",
    "                NUM_IMAGES = len(images)\n",
    "                SHAPE = (HEIGHT, WIDTH, CHANNELS)\n",
    "\n",
    "                save_images_to_h5(images, directory, hf)"
   ]
  },
  {
   "cell_type": "code",
   "execution_count": 64,
   "metadata": {
    "collapsed": true
   },
   "outputs": [],
   "source": [
    "def save_images_to_h5(images, directory, hf):\n",
    "        for i, img in enumerate(images):\n",
    "            image = cv2.imread(img)\n",
    "            image = cv2.resize(image, (WIDTH, HEIGHT), interpolation=cv2.INTER_CUBIC)\n",
    "\n",
    "            X_set = hf.create_dataset(\n",
    "                name=\"X\" + str(i) + \"_\" + directory,\n",
    "                data=image,\n",
    "                shape=(HEIGHT, WIDTH, CHANNELS),\n",
    "                maxshape=(HEIGHT, WIDTH, CHANNELS),\n",
    "                compression=\"gzip\",\n",
    "                compression_opts=9\n",
    "            )"
   ]
  },
  {
   "cell_type": "code",
   "execution_count": 65,
   "metadata": {},
   "outputs": [],
   "source": [
    "export_images()"
   ]
  },
  {
   "cell_type": "code",
   "execution_count": null,
   "metadata": {
    "collapsed": true
   },
   "outputs": [],
   "source": []
  },
  {
   "cell_type": "code",
   "execution_count": null,
   "metadata": {
    "collapsed": true
   },
   "outputs": [],
   "source": []
  },
  {
   "cell_type": "code",
   "execution_count": null,
   "metadata": {
    "collapsed": true
   },
   "outputs": [],
   "source": []
  }
 ],
 "metadata": {
  "kernelspec": {
   "display_name": "Python 3",
   "language": "python",
   "name": "python3"
  },
  "language_info": {
   "codemirror_mode": {
    "name": "ipython",
    "version": 3
   },
   "file_extension": ".py",
   "mimetype": "text/x-python",
   "name": "python",
   "nbconvert_exporter": "python",
   "pygments_lexer": "ipython3",
   "version": "3.5.2"
  }
 },
 "nbformat": 4,
 "nbformat_minor": 2
}
