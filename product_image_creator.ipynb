{
 "cells": [
  {
   "cell_type": "code",
   "execution_count": 68,
   "metadata": {
    "collapsed": true
   },
   "outputs": [],
   "source": [
    "import requests\n",
    "import h5py\n",
    "import os\n",
    "import cv2\n",
    "import datetime as dt\n",
    "import matplotlib.pyplot as plt\n",
    "import matplotlib.pylab as plb\n",
    "import numpy as np\n",
    "import pandas as pd\n",
    "from glob import glob"
   ]
  },
  {
   "cell_type": "code",
   "execution_count": 69,
   "metadata": {},
   "outputs": [],
   "source": [
    "HEIGHT = 256\n",
    "WIDTH = 256\n",
    "CHANNELS = 3\n",
    "images_path = \"./images/256_ObjectCategories\"\n",
    "h5_file_output = \"./datasets/256_images.h5\"\n",
    "\n",
    "\n",
    "def save_images_to_h5():\n",
    "    start = dt.datetime.now()\n",
    "    dtype = h5py.special_dtype(vlen=np.dtype('uint8'))\n",
    "\n",
    "    for directory in next(os.walk(\"./images/256_ObjectCategories\"))[1]:\n",
    "        SOURCE_IMAGES = os.path.join(images_path, directory)\n",
    "        images = glob(os.path.join(SOURCE_IMAGES, \"*.jpg\"))\n",
    "        \n",
    "        NUM_IMAGES = len(images)\n",
    "        SHAPE = (HEIGHT, WIDTH, CHANNELS)\n",
    "        \n",
    "        with h5py.File(h5_file_output, \"w\") as wf:\n",
    " \n",
    "            with h5py.File(h5_file_output, \"a\") as hf:\n",
    "                for i, img in enumerate(images):\n",
    "                    image = cv2.imread(img)\n",
    "                    image = cv2.resize(image, (WIDTH, HEIGHT), interpolation=cv2.INTER_CUBIC)\n",
    "\n",
    "                    X_set = hf.create_dataset(\n",
    "                        name=\"X\" + str(i),\n",
    "                        data=image,\n",
    "                        shape=(HEIGHT, WIDTH, CHANNELS),\n",
    "                        maxshape=(HEIGHT, WIDTH, CHANNELS),\n",
    "                        compression=\"gzip\",\n",
    "                        compression_opts=9\n",
    "                    )\n",
    "\n",
    "                    y_set = hf.create_dataset(\n",
    "                        name=\"y\" + str(i) + \"_\" + directory,\n",
    "                        data=directory,\n",
    "                        shape=(1,),\n",
    "                        maxshape=(1,),\n",
    "                        compression=\"gzip\",\n",
    "                        compression_opts=9\n",
    "                    )"
   ]
  },
  {
   "cell_type": "code",
   "execution_count": 70,
   "metadata": {},
   "outputs": [],
   "source": [
    "save_images_to_h5()"
   ]
  },
  {
   "cell_type": "code",
   "execution_count": 75,
   "metadata": {},
   "outputs": [
    {
     "name": "stdout",
     "output_type": "stream",
     "text": [
      "[[[104 117 138]\n",
      "  [110 116 135]\n",
      "  [132 130 142]\n",
      "  ...\n",
      "  [111 131 156]\n",
      "  [110 120 153]\n",
      "  [ 96 115 136]]\n",
      "\n",
      " [[118 120 153]\n",
      "  [119 125 146]\n",
      "  [133 132 148]\n",
      "  ...\n",
      "  [114 134 165]\n",
      "  [113 128 165]\n",
      "  [ 90 103 135]]\n",
      "\n",
      " [[ 97 111 133]\n",
      "  [119 126 136]\n",
      "  [138 130 153]\n",
      "  ...\n",
      "  [102 125 151]\n",
      "  [105 123 155]\n",
      "  [ 99 113 142]]\n",
      "\n",
      " ...\n",
      "\n",
      " [[156 159 163]\n",
      "  [149 154 156]\n",
      "  [146 152 151]\n",
      "  ...\n",
      "  [148 147 126]\n",
      "  [161 160 135]\n",
      "  [156 152 126]]\n",
      "\n",
      " [[165 164 169]\n",
      "  [152 154 155]\n",
      "  [147 152 151]\n",
      "  ...\n",
      "  [161 155 137]\n",
      "  [154 144 126]\n",
      "  [145 141 114]]\n",
      "\n",
      " [[162 162 162]\n",
      "  [153 157 151]\n",
      "  [151 155 160]\n",
      "  ...\n",
      "  [147 148 122]\n",
      "  [152 153 124]\n",
      "  [150 146 122]]]\n"
     ]
    }
   ],
   "source": [
    "hf = h5py.File(h5_file_output, \"r\")\n",
    "print(np.array(hf[\"X0\"][:]))"
   ]
  },
  {
   "cell_type": "code",
   "execution_count": null,
   "metadata": {
    "collapsed": true
   },
   "outputs": [],
   "source": []
  },
  {
   "cell_type": "code",
   "execution_count": null,
   "metadata": {
    "collapsed": true
   },
   "outputs": [],
   "source": []
  }
 ],
 "metadata": {
  "kernelspec": {
   "display_name": "Python 3",
   "language": "python",
   "name": "python3"
  },
  "language_info": {
   "codemirror_mode": {
    "name": "ipython",
    "version": 3
   },
   "file_extension": ".py",
   "mimetype": "text/x-python",
   "name": "python",
   "nbconvert_exporter": "python",
   "pygments_lexer": "ipython3",
   "version": "3.5.2"
  }
 },
 "nbformat": 4,
 "nbformat_minor": 2
}
