{
 "cells": [
  {
   "cell_type": "code",
   "execution_count": 4,
   "metadata": {},
   "outputs": [],
   "source": [
    "# conda install scikit-learn\n",
    "# install from: http://docs.python-requests.org/en/master/\n",
    "# to fix ssl installation of python packages issue\n",
    "# curl https://bootstrap.pypa.io/get-pip.py | python3\n",
    "# instructions to setup virtualenv\n",
    "# https://www.tensorflow.org/install/install_mac\n",
    "# pip3 install -r requirements.txt\n",
    "\n",
    "import requests\n",
    "import cv2\n",
    "import scipy.misc\n",
    "import numpy as np\n",
    "import csv\n",
    "import sklearn.model_selection as model\n",
    "import tensorflow\n",
    "from csv import DictReader\n",
    "from urllib.request import urlopen\n",
    "from matplotlib.pyplot import imshow\n",
    "from fr_utils import *"
   ]
  },
  {
   "cell_type": "code",
   "execution_count": 5,
   "metadata": {
    "collapsed": true
   },
   "outputs": [],
   "source": [
    "dataset_x = []\n",
    "dataset_y = []\n",
    "\n",
    "spamreader = csv.DictReader(open(\"./datasets/jcpenney_com-ecommerce_sample.csv\"))\n",
    "for row in spamreader:\n",
    "    if (row[\"name_title\"] != \"\" and row[\"product_image_urls\"] != \"\"):\n",
    "        dataset_x.append(row[\"product_image_urls\"])\n",
    "        dataset_y.append(row[\"name_title\"])\n",
    "    \n",
    "X = np.array(dataset_x)\n",
    "y = np.array(dataset_y)\n",
    "\n",
    "X_train, X_test, y_train, y_test = model.train_test_split(X, y, test_size = 0.3)"
   ]
  },
  {
   "cell_type": "code",
   "execution_count": null,
   "metadata": {},
   "outputs": [],
   "source": []
  },
  {
   "cell_type": "code",
   "execution_count": null,
   "metadata": {
    "collapsed": true
   },
   "outputs": [],
   "source": []
  }
 ],
 "metadata": {
  "kernelspec": {
   "display_name": "Python 3",
   "language": "python",
   "name": "python3"
  },
  "language_info": {
   "codemirror_mode": {
    "name": "ipython",
    "version": 3
   },
   "file_extension": ".py",
   "mimetype": "text/x-python",
   "name": "python",
   "nbconvert_exporter": "python",
   "pygments_lexer": "ipython3",
   "version": "3.5.2"
  }
 },
 "nbformat": 4,
 "nbformat_minor": 2
}
