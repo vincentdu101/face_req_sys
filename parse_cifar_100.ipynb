{
 "cells": [
  {
   "cell_type": "code",
   "execution_count": 1,
   "metadata": {},
   "outputs": [
    {
     "name": "stderr",
     "output_type": "stream",
     "text": [
      "/Library/Frameworks/Python.framework/Versions/3.5/lib/python3.5/importlib/_bootstrap.py:222: RuntimeWarning: compiletime version 3.6 of module 'tensorflow.python.framework.fast_tensor_util' does not match runtime version 3.5\n",
      "  return f(*args, **kwds)\n"
     ]
    }
   ],
   "source": [
    "from __future__ import absolute_import\n",
    "from __future__ import division\n",
    "from __future__ import print_function\n",
    "\n",
    "import os\n",
    "import tarfile\n",
    "import numpy as np\n",
    "import six\n",
    "\n",
    "from six.moves import cPickle\n",
    "\n",
    "from tensor2tensor.data_generators import generator_utils\n",
    "from tensor2tensor.data_generators import image_utils\n",
    "from tensor2tensor.data_generators import mnist\n",
    "from tensor2tensor.utils import metrics\n",
    "from tensor2tensor.utils import registry\n",
    "\n",
    "import tensorflow as tf\n",
    "\n",
    "# URLs and filenames for CIFAR data.\n",
    "_CIFAR10_URL = \"https://www.cs.toronto.edu/~kriz/cifar-10-python.tar.gz\"\n",
    "_CIFAR10_PREFIX = \"cifar-10-batches-py/\"\n",
    "_CIFAR10_TRAIN_FILES = [\n",
    "    \"data_batch_1\", \"data_batch_2\", \"data_batch_3\", \"data_batch_4\",\n",
    "    \"data_batch_5\"\n",
    "]\n",
    "_CIFAR10_TEST_FILES = [\"test_batch\"]\n",
    "_CIFAR10_IMAGE_SIZE = _CIFAR100_IMAGE_SIZE = 32\n",
    "\n",
    "_CIFAR100_URL = \"https://www.cs.toronto.edu/~kriz/cifar-100-python.tar.gz\"\n",
    "_CIFAR100_PREFIX = \"cifar-100-python/\"\n",
    "_CIFAR100_TRAIN_FILES = [\"train\"]\n",
    "_CIFAR100_TEST_FILES = [\"test\"]\n",
    "\n",
    "\n"
   ]
  },
  {
   "cell_type": "code",
   "execution_count": 2,
   "metadata": {
    "collapsed": true
   },
   "outputs": [],
   "source": [
    "def _get_cifar(directory, url):\n",
    "  \"\"\"Download and extract CIFAR to directory unless it is there.\"\"\"\n",
    "  filename = os.path.basename(url)\n",
    "  path = generator_utils.maybe_download(directory, filename, url)\n",
    "  tarfile.open(path, \"r:gz\").extractall(directory)\n",
    "\n",
    "\n",
    "def cifar_generator(cifar_version, tmp_dir, training, how_many, start_from=0):\n",
    "  \"\"\"Image generator for CIFAR-10 and 100.\n",
    "  Args:\n",
    "    cifar_version: string; one of \"cifar10\" or \"cifar100\"\n",
    "    tmp_dir: path to temporary storage directory.\n",
    "    training: a Boolean; if true, we use the train set, otherwise the test set.\n",
    "    how_many: how many images and labels to generate.\n",
    "    start_from: from which image to start.\n",
    "  Returns:\n",
    "    An instance of image_generator that produces CIFAR-10 images and labels.\n",
    "  \"\"\"\n",
    "  if cifar_version == \"cifar10\":\n",
    "    url = _CIFAR10_URL\n",
    "    train_files = _CIFAR10_TRAIN_FILES\n",
    "    test_files = _CIFAR10_TEST_FILES\n",
    "    prefix = _CIFAR10_PREFIX\n",
    "    image_size = _CIFAR10_IMAGE_SIZE\n",
    "    label_key = \"labels\"\n",
    "  elif cifar_version == \"cifar100\" or cifar_version == \"cifar20\":\n",
    "    url = _CIFAR100_URL\n",
    "    train_files = _CIFAR100_TRAIN_FILES\n",
    "    test_files = _CIFAR100_TEST_FILES\n",
    "    prefix = _CIFAR100_PREFIX\n",
    "    image_size = _CIFAR100_IMAGE_SIZE\n",
    "    if cifar_version == \"cifar100\":\n",
    "      label_key = \"fine_labels\"\n",
    "    else:\n",
    "      label_key = \"coarse_labels\"\n",
    "\n",
    "  _get_cifar(tmp_dir, url)\n",
    "  data_files = train_files if training else test_files\n",
    "  all_images, all_labels = [], []\n",
    "  for filename in data_files:\n",
    "    path = os.path.join(tmp_dir, prefix, filename)\n",
    "    with tf.gfile.Open(path, \"rb\") as f:\n",
    "      if six.PY2:\n",
    "        data = cPickle.load(f)\n",
    "      else:\n",
    "        data = cPickle.load(f, encoding=\"latin1\")\n",
    "    images = data[\"data\"]\n",
    "    num_images = images.shape[0]\n",
    "    images = images.reshape((num_images, 3, image_size, image_size))\n",
    "    all_images.extend([\n",
    "        np.squeeze(images[j]).transpose((1, 2, 0)) for j in range(num_images)\n",
    "    ])\n",
    "    labels = data[label_key]\n",
    "    all_labels.extend([labels[j] for j in range(num_images)])\n",
    "  return image_utils.image_generator(\n",
    "      all_images[start_from:start_from + how_many],\n",
    "      all_labels[start_from:start_from + how_many])"
   ]
  },
  {
   "cell_type": "code",
   "execution_count": 3,
   "metadata": {},
   "outputs": [
    {
     "name": "stdout",
     "output_type": "stream",
     "text": [
      "INFO:tensorflow:Not downloading, file already found: ./datasets/cifar-100-parsed/cifar-100-python.tar.gz\n"
     ]
    },
    {
     "data": {
      "text/plain": [
       "<generator object image_generator at 0x12bf37678>"
      ]
     },
     "execution_count": 3,
     "metadata": {},
     "output_type": "execute_result"
    }
   ],
   "source": [
    "cifar_generator(\"cifar100\", \"./datasets/cifar-100-parsed\", True, 0, 2000)"
   ]
  },
  {
   "cell_type": "code",
   "execution_count": null,
   "metadata": {
    "collapsed": true
   },
   "outputs": [],
   "source": []
  }
 ],
 "metadata": {
  "kernelspec": {
   "display_name": "Python 3",
   "language": "python",
   "name": "python3"
  },
  "language_info": {
   "codemirror_mode": {
    "name": "ipython",
    "version": 3
   },
   "file_extension": ".py",
   "mimetype": "text/x-python",
   "name": "python",
   "nbconvert_exporter": "python",
   "pygments_lexer": "ipython3",
   "version": "3.5.2"
  }
 },
 "nbformat": 4,
 "nbformat_minor": 2
}
