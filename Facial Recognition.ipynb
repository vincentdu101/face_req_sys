{
 "cells": [
  {
   "cell_type": "code",
   "execution_count": 17,
   "metadata": {},
   "outputs": [
    {
     "name": "stdout",
     "output_type": "stream",
     "text": [
      "The autoreload extension is already loaded. To reload it, use:\n",
      "  %reload_ext autoreload\n"
     ]
    }
   ],
   "source": [
    "# sudo pip install --upgrade --force-reinstall numpy\n",
    "# sudo pip install --upgrade --force-reinstall scipy\n",
    "# sudo pip install --upgrade --force-reinstall h5py\n",
    "# sudo pip install --upgrade --force-reinstall keras\n",
    "# sudo pip install --upgrade --force-reinstall tensorflow\n",
    "# conda install keras\n",
    "# conda install opencv\n",
    "\n",
    "from keras.models import Sequential\n",
    "from keras.layers import Conv2D, ZeroPadding2D, Activation, Input, concatenate\n",
    "from keras.models import Model\n",
    "from keras.layers.normalization import BatchNormalization\n",
    "from keras.layers.pooling import MaxPooling2D, AveragePooling2D\n",
    "from keras.layers.merge import Concatenate\n",
    "from keras.layers.core import Lambda, Flatten, Dense\n",
    "from keras.initializers import glorot_uniform\n",
    "from keras.engine.topology import Layer\n",
    "from keras import backend as K\n",
    "K.set_image_data_format('channels_first')\n",
    "import cv2\n",
    "import os\n",
    "import numpy as np\n",
    "from numpy import genfromtxt\n",
    "import pandas as pd\n",
    "import tensorflow as tf\n",
    "from fr_utils import *\n",
    "from inception_blocks_v2 import *\n",
    "\n",
    "%matplotlib inline\n",
    "%load_ext autoreload\n",
    "%autoreload 2\n",
    "\n",
    "np.set_printoptions(threshold=np.nan)"
   ]
  },
  {
   "cell_type": "code",
   "execution_count": 18,
   "metadata": {
    "collapsed": true
   },
   "outputs": [],
   "source": [
    "FRmodel = faceRecoModel(input_shape=(3, 96, 96))"
   ]
  },
  {
   "cell_type": "code",
   "execution_count": 19,
   "metadata": {},
   "outputs": [
    {
     "name": "stdout",
     "output_type": "stream",
     "text": [
      "Total Params: 3743280\n"
     ]
    }
   ],
   "source": [
    "print(\"Total Params:\", FRmodel.count_params())"
   ]
  },
  {
   "cell_type": "code",
   "execution_count": 20,
   "metadata": {
    "collapsed": true
   },
   "outputs": [],
   "source": [
    "def triplet_loss(y_true, y_pred, alpha = 0.2):\n",
    "    '''\n",
    "    implementation of the triplet loss as defined by the formula\n",
    "    y_true = true labels, required when you define a loss in Keras, you don't need it in this function\n",
    "    y_pred = python list that has three objects\n",
    "        anchor = the encodings for the anchor images, of shape (None, 128)\n",
    "        positive = the encodings for the positive images, of shape (None, 128)\n",
    "        negative = the encodings for the negative images, of shape (None, 128)\n",
    "    Returns:\n",
    "    loss = real number, value of the loss\n",
    "    '''\n",
    "    \n",
    "    anchor, positive, negative = y_pred[0], y_pred[1], y_pred[2]\n",
    "    \n",
    "    # compute the distance between the anchor and the positive, you will need to sum over axis = -1\n",
    "    pos_dist = tf.reduce_sum(tf.square(tf.subtract(anchor, positive)), axis = -1)\n",
    "    \n",
    "    # compute the distance between the anchor and the negative, you will need to sum over axis = -1\n",
    "    neg_dist = tf.reduce_sum(tf.square(tf.subtract(anchor, negative)), axis = -1)\n",
    "    \n",
    "    # subtract the two previous distances and add alpha\n",
    "    basic_loss = tf.add(tf.subtract(pos_dist, neg_dist), alpha)\n",
    "    \n",
    "    # take the maximum of basic_loss and 0.0. Sum over the training examples.\n",
    "    loss = tf.reduce_sum(tf.maximum(basic_loss, 0.0))\n",
    "    \n",
    "    return loss"
   ]
  },
  {
   "cell_type": "code",
   "execution_count": 21,
   "metadata": {},
   "outputs": [
    {
     "name": "stdout",
     "output_type": "stream",
     "text": [
      "expect loss 528.1427 to be 528.1427\n"
     ]
    }
   ],
   "source": [
    "# unit test for triplet_loss method\n",
    "with tf.Session() as test:\n",
    "    tf.set_random_seed(1)\n",
    "    y_true = (None, None, None)\n",
    "    y_pred = (tf.random_normal([3, 128], mean=6, stddev=0.1, seed=1),\n",
    "              tf.random_normal([3, 128], mean=1, stddev=1, seed=1),\n",
    "              tf.random_normal([3, 128], mean=3, stddev=4, seed=1))\n",
    "    loss = triplet_loss(y_true, y_pred)\n",
    "    print(\"expect loss \" + str(loss.eval()) + \" to be \" + str(528.1427))"
   ]
  },
  {
   "cell_type": "code",
   "execution_count": 22,
   "metadata": {
    "collapsed": true
   },
   "outputs": [],
   "source": [
    "FRmodel.compile(optimizer = \"adam\", loss = triplet_loss, metrics = [\"accuracy\"])\n",
    "load_weights_from_FaceNet(FRmodel)"
   ]
  },
  {
   "cell_type": "code",
   "execution_count": 23,
   "metadata": {},
   "outputs": [],
   "source": [
    "database = {}\n",
    "database[\"danielle\"] = img_to_encoding(\"images/danielle.png\", FRmodel)\n",
    "database[\"younes\"] = img_to_encoding(\"images/younes.jpg\", FRmodel)\n",
    "database[\"tian\"] = img_to_encoding(\"images/tian.jpg\", FRmodel)\n",
    "database[\"andrew\"] = img_to_encoding(\"images/andrew.jpg\", FRmodel)\n",
    "database[\"kian\"] = img_to_encoding(\"images/kian.jpg\", FRmodel)\n",
    "database[\"dan\"] = img_to_encoding(\"images/dan.jpg\", FRmodel)\n",
    "database[\"sebastiano\"] = img_to_encoding(\"images/sebastiano.jpg\", FRmodel)\n",
    "database[\"bertrand\"] = img_to_encoding(\"images/bertrand.jpg\", FRmodel)\n",
    "database[\"kevin\"] = img_to_encoding(\"images/kevin.jpg\", FRmodel)\n",
    "database[\"felix\"] = img_to_encoding(\"images/felix.jpg\", FRmodel)\n",
    "database[\"benoit\"] = img_to_encoding(\"images/benoit.jpg\", FRmodel)\n",
    "database[\"arnaud\"] = img_to_encoding(\"images/arnaud.jpg\", FRmodel)"
   ]
  },
  {
   "cell_type": "code",
   "execution_count": 25,
   "metadata": {
    "collapsed": true
   },
   "outputs": [],
   "source": [
    "def verify(image_path, identity, database, model):\n",
    "    \"\"\"\n",
    "    function that verifies if the person on the image path image is \n",
    "    identity\n",
    "    \n",
    "    Arguments: \n",
    "    image_path = path to image\n",
    "    identity = string, name of the person you'd like to verify the identity \n",
    "    database = python dictionary mapping names of allowed people's names\n",
    "    model = your Inception mode instance in keras \n",
    "    \n",
    "    Returns:\n",
    "    dist = distance between the image_path and the image of identity in db\n",
    "    door_open = true if the door should open, false otherwise\n",
    "    \"\"\"\n",
    "    \n",
    "    # step 1: compute the encoding for the image, use img_to_encoding\n",
    "    encoding = img_to_encoding(image_path, model)\n",
    "    \n",
    "    # step 2: compute distance with identity's image\n",
    "    dist = np.linalg.norm(encoding - database[identity], ord=2)\n",
    "    \n",
    "    # step 3: open the door if dist < 0.7, else don't open \n",
    "    if dist < 0.7:\n",
    "        print(\"It's \" + str(identity) + \", welcome home!\")\n",
    "        door_open = True\n",
    "    else: \n",
    "        print(\"It's not \" + str(identity) + \", please go away\")\n",
    "        door_open = False\n",
    "        \n",
    "    return dist, door_open"
   ]
  },
  {
   "cell_type": "code",
   "execution_count": 26,
   "metadata": {},
   "outputs": [
    {
     "name": "stdout",
     "output_type": "stream",
     "text": [
      "It's younes, welcome home!\n"
     ]
    },
    {
     "data": {
      "text/plain": [
       "(0.65938437, True)"
      ]
     },
     "execution_count": 26,
     "metadata": {},
     "output_type": "execute_result"
    }
   ],
   "source": [
    "verify(\"images/camera_0.jpg\", \"younes\", database, FRmodel)"
   ]
  },
  {
   "cell_type": "code",
   "execution_count": 27,
   "metadata": {},
   "outputs": [
    {
     "name": "stdout",
     "output_type": "stream",
     "text": [
      "It's not kian, please go away\n"
     ]
    },
    {
     "data": {
      "text/plain": [
       "(0.8622572, False)"
      ]
     },
     "execution_count": 27,
     "metadata": {},
     "output_type": "execute_result"
    }
   ],
   "source": [
    "verify(\"images/camera_2.jpg\", \"kian\", database, FRmodel)"
   ]
  },
  {
   "cell_type": "code",
   "execution_count": 28,
   "metadata": {
    "collapsed": true
   },
   "outputs": [],
   "source": [
    "def who_is_it(image_path, database, model):\n",
    "    \"\"\"\n",
    "    implements face recognition for the house by finding who is the person\n",
    "    on the image path\n",
    "    \n",
    "    Arguments:\n",
    "    image_path = path to an image \n",
    "    database = database containing image encodings along with the name of \n",
    "    the person on the image\n",
    "    model = your Inception model instance in Keras \n",
    "    \n",
    "    Returns:\n",
    "    min_dist = the minimum distance between image_path encoding and the \n",
    "    encodings from the database\n",
    "    identity = string, the name prediction for the person on image_path\n",
    "    \"\"\"\n",
    "    \n",
    "    # step 1: compute the target encoding for the image\n",
    "    encoding = img_to_encoding(image_path, model)\n",
    "    \n",
    "    # step 2: finding the closest encoding \n",
    "    # initialize min_dist to a large value, say 100\n",
    "    min_dist = 100\n",
    "    \n",
    "    # loop over the database dictionary's names and encodings \n",
    "    for (name, db_enc) in database.items():\n",
    "        \n",
    "        # compute L2 distance between the target encoding and the current\n",
    "        # emb from the database \n",
    "        dist = np.linalg.norm(db_enc - encoding, ord=2)\n",
    "        \n",
    "        # if this distance is less than the min_dist, then set min_dist to\n",
    "        # dist, and identity to name\n",
    "        if dist < min_dist:\n",
    "            min_dist = dist\n",
    "            identity = name \n",
    "            \n",
    "    if min_dist > 0.7:\n",
    "        print(\"Not in the database.\")\n",
    "    else:\n",
    "        print(\"it's \" + str(identity) + \", the distance is \" + str(min_dist))\n",
    "    \n",
    "    return min_dist, identity"
   ]
  },
  {
   "cell_type": "code",
   "execution_count": 29,
   "metadata": {},
   "outputs": [
    {
     "name": "stdout",
     "output_type": "stream",
     "text": [
      "it's younes, the distance is 0.65938437\n"
     ]
    },
    {
     "data": {
      "text/plain": [
       "(0.65938437, 'younes')"
      ]
     },
     "execution_count": 29,
     "metadata": {},
     "output_type": "execute_result"
    }
   ],
   "source": [
    "who_is_it(\"images/camera_0.jpg\", database, FRmodel)"
   ]
  },
  {
   "cell_type": "code",
   "execution_count": null,
   "metadata": {
    "collapsed": true
   },
   "outputs": [],
   "source": []
  }
 ],
 "metadata": {
  "kernelspec": {
   "display_name": "Python 3",
   "language": "python",
   "name": "python3"
  },
  "language_info": {
   "codemirror_mode": {
    "name": "ipython",
    "version": 3
   },
   "file_extension": ".py",
   "mimetype": "text/x-python",
   "name": "python",
   "nbconvert_exporter": "python",
   "pygments_lexer": "ipython3",
   "version": "3.6.5"
  }
 },
 "nbformat": 4,
 "nbformat_minor": 2
}
